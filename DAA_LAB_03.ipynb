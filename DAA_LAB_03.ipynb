{
  "cells": [
    {
      "cell_type": "markdown",
      "metadata": {
        "id": "view-in-github",
        "colab_type": "text"
      },
      "source": [
        "<a href=\"https://colab.research.google.com/github/karthikeyan0741/2203A51136_DAA/blob/main/DAA_LAB_03.ipynb\" target=\"_parent\"><img src=\"https://colab.research.google.com/assets/colab-badge.svg\" alt=\"Open In Colab\"/></a>"
      ]
    },
    {
      "cell_type": "markdown",
      "metadata": {
        "id": "oVJ6k1B2utFI"
      },
      "source": [
        "#**WEEK ASSIGNMENT 01**"
      ]
    },
    {
      "cell_type": "markdown",
      "metadata": {
        "id": "l0_iGYwluzNd"
      },
      "source": [
        "08/08/2024"
      ]
    },
    {
      "cell_type": "markdown",
      "metadata": {
        "id": "U-bKNRoNwVyS"
      },
      "source": [
        "#**DAA ASSIGNMENT NEELIMA**"
      ]
    },
    {
      "cell_type": "markdown",
      "metadata": {
        "id": "xrNGJkKHvEM6"
      },
      "source": [
        " Q1: Imagine you work for a large logistics company that handles a high volume of package deliveries on a daily basis. The company's success hinges on ensuring that packages are delivered to their respective destinations efficiently and on time. To solve this problem, you create a program that can quickly process and classify packages based on their destination."
      ]
    },
    {
      "cell_type": "code",
      "execution_count": 1,
      "metadata": {
        "colab": {
          "base_uri": "https://localhost:8080/"
        },
        "id": "nObrF4T9uZoL",
        "outputId": "51c39698-f0f4-4e9f-e9ce-37ac84c4e06c"
      },
      "outputs": [
        {
          "output_type": "stream",
          "name": "stdout",
          "text": [
            "Enter the Details of 1 th person.\n",
            "Enter the name of the Delivary Holder: IYER\n",
            "Enter the name of the City name: MUMBAI\n",
            "Enter the Delivay Address Distance: 1800\n",
            "\n",
            "Enter the Details of 2 th person.\n",
            "Enter the name of the Delivary Holder: KARTHIK\n",
            "Enter the name of the City name: SURYAPET\n",
            "Enter the Delivay Address Distance: 130\n",
            "\n",
            "Enter the Details of 3 th person.\n",
            "Enter the name of the Delivary Holder: SUMAN\n",
            "Enter the name of the City name: WARANGAL\n",
            "Enter the Delivay Address Distance: 50\n",
            "\n",
            "Enter the Details of 4 th person.\n",
            "Enter the name of the Delivary Holder: DEEPAK\n",
            "Enter the name of the City name: NIZAMBAD\n",
            "Enter the Delivay Address Distance: 250\n",
            "\n",
            "Sorted Distance are: [50, 130, 250, 1800]\n"
          ]
        }
      ],
      "source": [
        "#Bubble Sort\n",
        "def function1(a):\n",
        "  for i in range(len(a)):\n",
        "    for j in range (len(a)-1):\n",
        "      if a[j] > a[j+1]:\n",
        "        temp=a[j+1]\n",
        "        a[j+1]=a[j]\n",
        "        a[j]=temp\n",
        "  return a\n",
        "a=[]\n",
        "for i in range(4):\n",
        "  print(\"Enter the Details of\",i+1,\"th person.\")\n",
        "  name=input(\"Enter the name of the Delivary Holder: \")\n",
        "  city=input(\"Enter the name of the City name: \")\n",
        "  a.append(int(input(\"Enter the Delivay Address Distance: \")))\n",
        "  print()\n",
        "print(\"Sorted Distance are:\",function1(a))\n"
      ]
    },
    {
      "cell_type": "markdown",
      "metadata": {
        "id": "EXcZxqfnvx3a"
      },
      "source": [
        "Q 2: Imagine you are working for a retail store that sells a wide variety of products. The store has a vast inventory with thousands of items, and it's becoming challenging for the employees to manage and locate products efficiently. Customers often ask for specific items, and employees need to find them quickly. The sorting program's primary goal is to organize the products in the inventory systematically, allowing for faster and easier access to items when needed. Implement an efficient sorting algorithm to arrange the products based on product IDs.\n"
      ]
    },
    {
      "cell_type": "code",
      "execution_count": null,
      "metadata": {
        "id": "jvDwxq5SvvSe"
      },
      "outputs": [],
      "source": []
    },
    {
      "cell_type": "markdown",
      "metadata": {
        "id": "YjAGfJtCw3LH"
      },
      "source": [
        "Q3: Imagine you're working for a large online marketplace company that facilitates the buying and selling of various products. As part of the order processing system, the company receives thousands of new orders every minute from customers all around the world. To ensure efficient and timely order fulfillment, the orders need to be sorted based on various criteria before they can be processed and shipped.Some customers may request advanced shipping or have urgent requirements. So, implement an application to arrange the Orders based on priority Number."
      ]
    },
    {
      "cell_type": "code",
      "execution_count": null,
      "metadata": {
        "id": "GTH7VfeDxO9z"
      },
      "outputs": [],
      "source": [
        "def selection_sort(a):\n",
        "    for i in range(len(a)-1):\n",
        "        index = i\n",
        "        for j in range(i+1, len(a)):\n",
        "            if a[index]['priority'] > a[j]['priority']:\n",
        "                index = j\n",
        "        a[i], a[index] = a[index], a[i]\n",
        "    return a\n",
        "\n",
        "a = eval(input(\"Enter the list with name and priority: \"))\n",
        "\n",
        "print(\"Sorted names With the Priority:\",selection_sort(a))\n",
        "#Test Cases :[{\"name\": \"MSD\", \"priority\": 7},{\"name\": \"JADDU\", \"priority\": 8},{\"name\": \"VIRAT\", \"priority\": 18},{\"name\": \"ASHWIN\", \"priority\": 99},{\"name\": KARTHIKEYAN IYER\", \"priority\": 96},{\"name\": \"CHIMTU\", \"priority\": 23},{\"name\": \"FAF D\", \"priority\": 13},{\"name\": \"RUTURAJ\", \"priority\": 31},{\"name\": \"KL RAHUL\", \"priority\": 1},{\"name\": \"ROHIT SHARMA\", \"priority\": 45}]\n"
      ]
    },
    {
      "cell_type": "markdown",
      "metadata": {
        "id": "s0sakMICzsPi"
      },
      "source": [
        "#**DAA ASSIGNMENT SURESH**"
      ]
    },
    {
      "cell_type": "markdown",
      "source": [
        "Q 4: In an online bookstore, there are thousands of books available for purchase. The bookstore's website allows customers to search for books based on various criteria, such as title, author, publication date, and price. if a customer searches for books by a specific title and price, the program can arrange the search results by price, from low to high or vice versa, based on the customer's preference"
      ],
      "metadata": {
        "id": "7S4O9KU-agLY"
      }
    },
    {
      "cell_type": "code",
      "source": [
        "#Bubble Sort\n",
        "#Time Complexcity O(N^2)\n",
        "def function1(a):\n",
        "  for i in range(len(a)):\n",
        "    for j in range (len(a)-1):\n",
        "      if a[j]['Price'] > a[j+1]['Price']:\n",
        "        temp=a[j+1]\n",
        "        a[j+1]=a[j]\n",
        "        a[j]=temp\n",
        "  return a\n",
        "a= eval(input(\"Enter the Title, Author, PublicationDate,Price\"))\n",
        "print(\"Sorted Prices With Books are:\",function1(a))\n",
        "#Time Complexcity O(N^2)"
      ],
      "metadata": {
        "id": "xzjElptnXxk7"
      },
      "execution_count": null,
      "outputs": []
    },
    {
      "cell_type": "markdown",
      "source": [
        "Q5: Courier and logistics companies handle a massive volume of packages daily. These packages need to be efficiently sorted and routed to their destinations to ensure timely and accurate deliveries. Each package typically has a unique barcode that contains essential information like the recipient's address, delivery method, and tracking number. So, implement an application to arrange the packages based on tracking numbers"
      ],
      "metadata": {
        "id": "fkL6OP6bay3l"
      }
    },
    {
      "cell_type": "code",
      "source": [
        "#Insertion Sort\n",
        "def function1(a):\n",
        "  for i in range(len(a)):\n",
        "    key=a[i]\n",
        "    j=i-1\n",
        "    while j>=0 and key['TrackingNumber'] < a[j]['TrackingNumber']:\n",
        "      a[j + 1] = a[j]\n",
        "      j -= 1\n",
        "    a[j + 1] = key\n",
        "  return a\n",
        "a=eval(input(\"Enter the Address, Delivery Method,Tracking Number: \"))\n",
        "print(\"Sorted Producted Id's:\",function1(a))\n",
        "#Time Complexcity O(n^2)"
      ],
      "metadata": {
        "id": "Kass1AICazX-"
      },
      "execution_count": null,
      "outputs": []
    },
    {
      "cell_type": "markdown",
      "source": [
        "Q6: Imagine you are working for a large online marketplace like Amazon or eBay. One of the critical functionalities of such platforms is to display products to customers in a way that is relevant, helpful, and easy to navigate. Customers can browse through thousands or even millions of products, and Many users prefer to see products sorted by price, either in ascending or descending order. This allows them to find thecheapest or most expensive products within their budget. So, implement an application to arrange the products based on price.\n",
        "\n"
      ],
      "metadata": {
        "id": "Idg1pQ5ra0Az"
      }
    },
    {
      "cell_type": "code",
      "source": [
        "#Selection Sort\n",
        "def selection_sort(a):\n",
        "    for i in range(len(a)-1):\n",
        "        index = i\n",
        "        for j in range(i+1, len(a)):\n",
        "            if a[index]['Price'] > a[j]['Price']:\n",
        "                index = j\n",
        "        a[i], a[index] = a[index], a[i]\n",
        "    return a\n",
        "\n",
        "a = eval(input(\"Enter the list with Product Name and Price: \"))\n",
        "\n",
        "print(\"Sorted names With the Priority:\",selection_sort(a))\n",
        "#Time Complexcity O(N^2)"
      ],
      "metadata": {
        "id": "LzCbo5MDa0fP"
      },
      "execution_count": null,
      "outputs": []
    }
  ],
  "metadata": {
    "colab": {
      "provenance": [],
      "authorship_tag": "ABX9TyPf7xbpUN0tWVdctVT7zoUb",
      "include_colab_link": true
    },
    "kernelspec": {
      "display_name": "Python 3",
      "name": "python3"
    },
    "language_info": {
      "name": "python"
    }
  },
  "nbformat": 4,
  "nbformat_minor": 0
}