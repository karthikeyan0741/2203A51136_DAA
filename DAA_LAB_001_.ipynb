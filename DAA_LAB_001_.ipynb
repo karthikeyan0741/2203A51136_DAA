{
  "nbformat": 4,
  "nbformat_minor": 0,
  "metadata": {
    "colab": {
      "provenance": [],
      "authorship_tag": "ABX9TyNgNWZFZ2QcrYSDAmQbwrI1",
      "include_colab_link": true
    },
    "kernelspec": {
      "name": "python3",
      "display_name": "Python 3"
    },
    "language_info": {
      "name": "python"
    }
  },
  "cells": [
    {
      "cell_type": "markdown",
      "metadata": {
        "id": "view-in-github",
        "colab_type": "text"
      },
      "source": [
        "<a href=\"https://colab.research.google.com/github/karthikeyan0741/2203A51136_DAA/blob/main/DAA_LAB_001_.ipynb\" target=\"_parent\"><img src=\"https://colab.research.google.com/assets/colab-badge.svg\" alt=\"Open In Colab\"/></a>"
      ]
    },
    {
      "cell_type": "markdown",
      "source": [
        "**MATRICES PROBLEMS**"
      ],
      "metadata": {
        "id": "BMqUprS-bHNN"
      }
    },
    {
      "cell_type": "markdown",
      "source": [
        "ADDITION OF SINLE MATRIX"
      ],
      "metadata": {
        "id": "4fzuJbZwbVHR"
      }
    },
    {
      "cell_type": "code",
      "source": [
        "a=[7,5,6,8,4]\n",
        "b=[14,10,12,16,8]\n",
        "for i in range(len(a)):\n",
        "  a[i]+=b[i]\n",
        "for i in range(len(b)):\n",
        "  print(a[i],end=\" \")\n",
        "#TIME COMPLEXCITY O(N)"
      ],
      "metadata": {
        "colab": {
          "base_uri": "https://localhost:8080/"
        },
        "id": "dyExdyYBbNFM",
        "outputId": "e2632bbc-2bf4-4caf-8667-f095bdebd1ee"
      },
      "execution_count": null,
      "outputs": [
        {
          "output_type": "stream",
          "name": "stdout",
          "text": [
            "21 15 18 24 12 "
          ]
        }
      ]
    },
    {
      "cell_type": "markdown",
      "source": [
        "#ADDITION OF MATRIX DYNAMICALLY"
      ],
      "metadata": {
        "id": "Q5Jszy5Kj9cH"
      }
    },
    {
      "cell_type": "code",
      "source": [
        "rows =int(input(\"\"))\n",
        "col= int(input(\"\"))\n",
        "a=[[0]*col]*rows\n",
        "b=[[0]*col]*rows\n",
        "for i in range(rows):\n",
        "  for j in range(col):\n",
        "    a[i][j]=int(input(\"\"))\n",
        "for i in range(rows):\n",
        "  for j in range(col):\n",
        "    b[i][j]=int(input(\"\"))\n",
        "for i in range(rows):\n",
        "  for i in range(col):\n",
        "    print(a[i][j]+b[i][j],end=\" \")\n",
        "  print()\n",
        "#TIME COMPLEXCITY O(ROW*COL)"
      ],
      "metadata": {
        "colab": {
          "base_uri": "https://localhost:8080/"
        },
        "id": "qL-2vth3kiW7",
        "outputId": "ede5b668-4d7b-4c22-d487-3ae6d5d0f7d5"
      },
      "execution_count": 2,
      "outputs": [
        {
          "output_type": "stream",
          "name": "stdout",
          "text": [
            "2\n",
            "2\n",
            "2\n",
            "2\n",
            "2\n",
            "2\n",
            "2\n",
            "2\n",
            "2\n",
            "2\n",
            "4 4 \n",
            "4 4 \n"
          ]
        }
      ]
    },
    {
      "cell_type": "markdown",
      "source": [
        "#ADDITION OF MATRIX STATICALLY"
      ],
      "metadata": {
        "id": "jfBylQCwk1q_"
      }
    },
    {
      "cell_type": "code",
      "source": [
        "rows=col=2\n",
        "a=[[7,7],[7,7]]\n",
        "b=[[7,7],[7,7]]\n",
        "for i in range(rows):\n",
        "  for i in range(col):\n",
        "    print(a[i][j]+b[i][j],end=\" \")\n",
        "  print()\n",
        ""
      ],
      "metadata": {
        "colab": {
          "base_uri": "https://localhost:8080/"
        },
        "id": "26Axw2dPkx59",
        "outputId": "08427d9d-295a-4a94-df1d-f0e37da4a515"
      },
      "execution_count": 3,
      "outputs": [
        {
          "output_type": "stream",
          "name": "stdout",
          "text": [
            "14 14 \n",
            "14 14 \n"
          ]
        }
      ]
    },
    {
      "cell_type": "markdown",
      "source": [
        "#Multiplication of matrix"
      ],
      "metadata": {
        "id": "t48jL9LFlKm1"
      }
    },
    {
      "cell_type": "code",
      "source": [
        "rows =int(input(\"\"))\n",
        "col= int(input(\"\"))\n",
        "a=[[0]*col]*rows\n",
        "b=[[0]*col]*rows\n",
        "for i in range(rows):\n",
        "  for j in range(col):\n",
        "    a[i][j]=int(input(\"\"))\n",
        "for i in range(rows):\n",
        "  for j in range(col):\n",
        "    b[i][j]=int(input(\"\"))\n",
        "pro=[[0]*col]*rows\n",
        "\n",
        "for i in range(rows):\n",
        "  for j in range(col):\n",
        "    pro[i][j]+=a[i][j]*b[j][i]\n",
        "for i in range(rows):\n",
        "  for j in range(col):\n",
        "    print(pro[i][j],end=\" \")\n",
        "  print()"
      ],
      "metadata": {
        "colab": {
          "base_uri": "https://localhost:8080/"
        },
        "id": "PgxLfi0glGAm",
        "outputId": "584c4479-6e5a-4a29-bc0a-99d4a6994787"
      },
      "execution_count": 7,
      "outputs": [
        {
          "output_type": "stream",
          "name": "stdout",
          "text": [
            "2\n",
            "2\n",
            "2\n",
            "2\n",
            "2\n",
            "2\n",
            "2\n",
            "2\n",
            "2\n",
            "2\n",
            "8 8 \n",
            "8 8 \n"
          ]
        }
      ]
    },
    {
      "cell_type": "markdown",
      "source": [
        "#Multiplication statically"
      ],
      "metadata": {
        "id": "Ittu4rc5lTC_"
      }
    },
    {
      "cell_type": "code",
      "source": [
        "rows=col=2\n",
        "a=[[7,7],[7,7]]\n",
        "b=[[7,7],[7,7]]\n",
        "pro=[[0]*col]*rows\n",
        "for i in range(rows):\n",
        "  for j in range(col):\n",
        "    pro[i][j]+=a[i][j]*b[j][i]\n",
        "for i in range(rows):\n",
        "  for j in range(col):\n",
        "    print(pro[i][j],end=\" \")\n",
        "  print()"
      ],
      "metadata": {
        "colab": {
          "base_uri": "https://localhost:8080/"
        },
        "id": "bKWtzfe1lThZ",
        "outputId": "faabb86c-38bd-4741-dcc2-032369e57813"
      },
      "execution_count": 6,
      "outputs": [
        {
          "output_type": "stream",
          "name": "stdout",
          "text": [
            "98 98 \n",
            "98 98 \n"
          ]
        }
      ]
    }
  ]
}