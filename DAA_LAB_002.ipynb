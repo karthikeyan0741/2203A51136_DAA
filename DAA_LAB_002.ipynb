{
  "nbformat": 4,
  "nbformat_minor": 0,
  "metadata": {
    "colab": {
      "provenance": [],
      "authorship_tag": "ABX9TyOfs34/Hc6FJIqrkCP/OaGs",
      "include_colab_link": true
    },
    "kernelspec": {
      "name": "python3",
      "display_name": "Python 3"
    },
    "language_info": {
      "name": "python"
    }
  },
  "cells": [
    {
      "cell_type": "markdown",
      "metadata": {
        "id": "view-in-github",
        "colab_type": "text"
      },
      "source": [
        "<a href=\"https://colab.research.google.com/github/karthikeyan0741/2203A51136_DAA/blob/main/DAA_LAB_002.ipynb\" target=\"_parent\"><img src=\"https://colab.research.google.com/assets/colab-badge.svg\" alt=\"Open In Colab\"/></a>"
      ]
    },
    {
      "cell_type": "markdown",
      "source": [
        "#**DATE:01/08/2024 **"
      ],
      "metadata": {
        "id": "xAbVWv1NpAwd"
      }
    },
    {
      "cell_type": "markdown",
      "source": [
        "#**BUBBLE SORT**\n",
        "Dynamically taking the values"
      ],
      "metadata": {
        "id": "NTTMHF4opHUM"
      }
    },
    {
      "cell_type": "code",
      "execution_count": 1,
      "metadata": {
        "colab": {
          "base_uri": "https://localhost:8080/"
        },
        "id": "z_Xd4TSio844",
        "outputId": "30b79884-6887-4b86-bbbd-1149648c4867"
      },
      "outputs": [
        {
          "output_type": "stream",
          "name": "stdout",
          "text": [
            "45\n",
            "7\n",
            "18\n",
            "5\n",
            "[5, 7, 18, 45]\n"
          ]
        }
      ],
      "source": [
        "def function1(a):\n",
        "  for i in range(len(a)):\n",
        "    for j in range (len(a)-1):\n",
        "      if a[j] > a[j+1]:\n",
        "        temp=a[j+1]\n",
        "        a[j+1]=a[j]\n",
        "        a[j]=temp\n",
        "  return a\n",
        "a=[]\n",
        "for i in range(4):\n",
        "  a.append(int(input()))\n",
        "print(function1(a))\n",
        "#Time Complexcity O(N^2)"
      ]
    },
    {
      "cell_type": "markdown",
      "source": [
        "#**INSERTION SORT**"
      ],
      "metadata": {
        "id": "FpbfVj0lrDlV"
      }
    },
    {
      "cell_type": "code",
      "source": [
        "def function1(a):\n",
        "  for i in range(len(a)-1):\n",
        "    key=a[i]\n",
        "    j=i-1\n",
        "    while j>=0 and a[j]>key:\n",
        "      a[j+1]=a[j]\n",
        "      j=j-1\n",
        "      a[j+1]=key\n",
        "  return a\n",
        "  a=[8,23,41,96,1,45,18,7]\n",
        "print(function1(a))\n",
        ""
      ],
      "metadata": {
        "colab": {
          "base_uri": "https://localhost:8080/"
        },
        "id": "h_VR4kYhrO64",
        "outputId": "510e04a7-ff99-4291-c339-0532eed0b742"
      },
      "execution_count": 7,
      "outputs": [
        {
          "output_type": "stream",
          "name": "stdout",
          "text": [
            "[1, 7, 8, 18, 23, 41, 45, 96]\n"
          ]
        }
      ]
    },
    {
      "cell_type": "markdown",
      "source": [
        "#**SELECTION SORT**"
      ],
      "metadata": {
        "id": "xbNiLj6GqFkp"
      }
    },
    {
      "cell_type": "code",
      "source": [
        " def function1(a):\n",
        "  for i in range(len(a)-1):\n",
        "    index=i\n",
        "    for j in range(i+1,len(a)):\n",
        "      if(a[index] > a[j]):\n",
        "        index=j\n",
        "    a[i],a[index]=a[index],a[i]\n",
        "  return a\n",
        "a=[8,23,41,96,1,45,18,7]\n",
        "print(function1(a))\n",
        "\n"
      ],
      "metadata": {
        "colab": {
          "base_uri": "https://localhost:8080/"
        },
        "id": "pvaSevv0qGFa",
        "outputId": "d07295fd-74a6-4056-94c6-8022311e16a7"
      },
      "execution_count": 5,
      "outputs": [
        {
          "output_type": "stream",
          "name": "stdout",
          "text": [
            "[1, 7, 8, 18, 23, 41, 45, 96]\n"
          ]
        }
      ]
    }
  ]
}